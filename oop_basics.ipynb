{
  "nbformat": 4,
  "nbformat_minor": 0,
  "metadata": {
    "colab": {
      "provenance": [],
      "authorship_tag": "ABX9TyPQrWlmYq33fRx3iE86YXtU",
      "include_colab_link": true
    },
    "kernelspec": {
      "name": "python3",
      "display_name": "Python 3"
    },
    "language_info": {
      "name": "python"
    }
  },
  "cells": [
    {
      "cell_type": "markdown",
      "metadata": {
        "id": "view-in-github",
        "colab_type": "text"
      },
      "source": [
        "<a href=\"https://colab.research.google.com/github/steffyjk/google_collab/blob/main/oop_basics.ipynb\" target=\"_parent\"><img src=\"https://colab.research.google.com/assets/colab-badge.svg\" alt=\"Open In Colab\"/></a>"
      ]
    },
    {
      "cell_type": "code",
      "execution_count": 53,
      "metadata": {
        "id": "mcFCDgywNCTI"
      },
      "outputs": [],
      "source": [
        "class Person:\n",
        "\n",
        "  # CLASS VARIABLE\n",
        "  MAX_AGE = 120\n",
        "\n",
        "  # THIS IS CLASS INIT METHOD \n",
        "  # --> THIS GONNA DEFINE WHEN YOU CREATE THAT OBJECT\n",
        "  def __init__(self, name, age, gender):\n",
        "\n",
        "    self.name = name\n",
        "\n",
        "    # THIS IS HOW VALIDATION DONE IN __init__ PART\n",
        "    if not isinstance(age, int):    \n",
        "       raise ValueError(\"Age must be an integer.\")\n",
        "    if age < 0 or age > 120:\n",
        "       raise ValueError(\"Age must be between 0 and 120.\")\n",
        "    self.age = age\n",
        "    self.gender = gender\n",
        "\n",
        "  # INSTANCE METHOD --> That gonna include self [ __init__ data ]\n",
        "  def person_detail(self):\n",
        "    data = {\n",
        "        'name':self.name,\n",
        "        'age': self.age,\n",
        "        'gender': self.gender\n",
        "    }\n",
        "    return(f\"This is the person_detail: {data}\")\n",
        "\n",
        "  # CLASS METHOD\n",
        "  @classmethod\n",
        "  def get_max_age(cls):\n",
        "    data = cls.MAX_AGE\n",
        "    return data\n",
        "\n",
        "  # CLASS METHOD WITH SELF \n",
        "  @classmethod\n",
        "  def class_method_with_self(cls, person):\n",
        "    data = {\n",
        "        \"person name\": person.name,\n",
        "        \"max value\": cls.MAX_AGE\n",
        "    }\n",
        "    return data\n",
        "\n",
        "  # STATIC METHOD\n",
        "  @staticmethod\n",
        "  def greetings():\n",
        "    return \"HELLO WORLD!!\""
      ]
    },
    {
      "cell_type": "code",
      "source": [
        "# CREATING CLASS OBJECT\n",
        "person1 = Person(name='steffy',\n",
        "                 age=21,\n",
        "                 gender=\"female\")"
      ],
      "metadata": {
        "id": "la-yywJ-QWRM"
      },
      "execution_count": 59,
      "outputs": []
    },
    {
      "cell_type": "code",
      "source": [
        "# YOU CAN OVERRIDE THE INITIAL VALUE OF OBJECTS\n",
        "person1.name = \"stella\" "
      ],
      "metadata": {
        "id": "PybYIfatUHG6"
      },
      "execution_count": 55,
      "outputs": []
    },
    {
      "cell_type": "code",
      "source": [
        "# INSTANCE METHOD\n",
        "person1.person_detail()"
      ],
      "metadata": {
        "colab": {
          "base_uri": "https://localhost:8080/",
          "height": 35
        },
        "id": "gxC4FWIzR7cC",
        "outputId": "615d03a2-c766-4329-efc1-5627c050547d"
      },
      "execution_count": 56,
      "outputs": [
        {
          "output_type": "execute_result",
          "data": {
            "text/plain": [
              "\"This is the person_detail: {'name': 'stella', 'age': 21, 'gender': 'female'}\""
            ],
            "application/vnd.google.colaboratory.intrinsic+json": {
              "type": "string"
            }
          },
          "metadata": {},
          "execution_count": 56
        }
      ]
    },
    {
      "cell_type": "code",
      "source": [
        "# CLASS METHOD\n",
        "person1.get_max_age()"
      ],
      "metadata": {
        "colab": {
          "base_uri": "https://localhost:8080/"
        },
        "id": "ID1GTpDsTrif",
        "outputId": "b9f30f32-aefe-4c0c-9250-0b236d6f643e"
      },
      "execution_count": 57,
      "outputs": [
        {
          "output_type": "execute_result",
          "data": {
            "text/plain": [
              "120"
            ]
          },
          "metadata": {},
          "execution_count": 57
        }
      ]
    },
    {
      "cell_type": "code",
      "source": [
        "# CLASS METHOD WITH INHERITANCE OF CLASS METHOD\n",
        "Person.class_method_with_self(person=person1)"
      ],
      "metadata": {
        "colab": {
          "base_uri": "https://localhost:8080/"
        },
        "id": "ZfLr4RTkd_2S",
        "outputId": "d8689579-2413-4274-d7fa-0a34942aed6a"
      },
      "execution_count": 58,
      "outputs": [
        {
          "output_type": "execute_result",
          "data": {
            "text/plain": [
              "{'person name': 'stella', 'max value': 120}"
            ]
          },
          "metadata": {},
          "execution_count": 58
        }
      ]
    },
    {
      "cell_type": "code",
      "source": [
        "# STATIC METHOD\n",
        "person1.greetings() "
      ],
      "metadata": {
        "colab": {
          "base_uri": "https://localhost:8080/",
          "height": 35
        },
        "id": "nQHa3_zuTvst",
        "outputId": "a1cb04bd-2807-48af-fddb-431b7e654bf4"
      },
      "execution_count": 51,
      "outputs": [
        {
          "output_type": "execute_result",
          "data": {
            "text/plain": [
              "'HELLO WORLD!!'"
            ],
            "application/vnd.google.colaboratory.intrinsic+json": {
              "type": "string"
            }
          },
          "metadata": {},
          "execution_count": 51
        }
      ]
    }
  ]
}